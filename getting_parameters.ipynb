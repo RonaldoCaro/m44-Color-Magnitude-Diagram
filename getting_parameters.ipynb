{
 "cells": [
  {
   "cell_type": "markdown",
   "metadata": {},
   "source": [
    "<h1>Getting FITS HEADER PARAMETERS</h1>\n",
    "\n",
    "<p>We can use SAO IMAGE DS9 to check the parameters on the header, actually this is the way I learned to do it. \n",
    "However, let´s do it autamatically using python.</p>"
   ]
  },
  {
   "cell_type": "code",
   "execution_count": 2,
   "metadata": {},
   "outputs": [],
   "source": [
    "from astropy.io import fits, ascii\n",
    "\n",
    "filterRP_fileName = 'ogg0m406-kb27-20230410-0069-e91.fits.fz'\n",
    "filterB_fileName = 'ogg0m406-kb27-20230410-0070-e91.fits.fz'\n",
    "filterV_fileName = 'ogg0m406-kb27-20230410-0071-e91.fits.fz'"
   ]
  },
  {
   "cell_type": "code",
   "execution_count": 16,
   "metadata": {},
   "outputs": [],
   "source": [
    "hduRP = fits.open('fits-images-reduced/' + filterRP_fileName)\n",
    "hduB = fits.open('fits-images-reduced/' + filterB_fileName)\n",
    "hduV = fits.open('fits-images-reduced/' + filterV_fileName)\n",
    "\n",
    "hduRP = hduRP[1]\n",
    "hduB = hduB[1]\n",
    "hduV = hduV[1]"
   ]
  },
  {
   "cell_type": "markdown",
   "metadata": {},
   "source": [
    "<p>\n",
    "The data we are interested in is located at level 1 of the HUD. We can access the metadata by looking at the keywords in the header. We are retrieving:\n",
    "<ul>\n",
    "  <li><strong>SITE</strong>: Site of the observatory</li>\n",
    "  <li><strong>LATITUDE</strong>: Telescope latitude</li>\n",
    "  <li><strong>LONGITUDE</strong>: Telescope longitude</li>\n",
    "  <li><strong>DATE-OBS</strong>: Start date and time of the observation</li>\n",
    "  <li><strong>FILTER</strong>: The first filter wheel filter type</li>\n",
    "  <li><strong>RA</strong>: Right ascension where the telescope is pointing</li>\n",
    "  <li><strong>DEC</strong>: Declination where the telescope is pointing</li>\n",
    "  <li><strong>AIRMASS</strong>: Effective airmass of the observation</li>\n",
    "</ul>\n",
    "</p>\n"
   ]
  },
  {
   "cell_type": "code",
   "execution_count": 21,
   "metadata": {},
   "outputs": [],
   "source": [
    "hdus = [hduRP, hduB, hduV]\n",
    "header_keyword = ['SITE', 'LATITUDE', 'LONGITUD','DATE-OBS', 'FILTER', 'RA', 'DEC', 'AIRMASS']\n",
    "\n",
    "parameters = []\n",
    "for hdu in hdus:\n",
    "    row = [hdu.header.get(param, 'N/A') for param in header_keyword]\n",
    "    parameters.append(row)\n",
    "\n",
    "import pandas as pd\n",
    "param_table = pd.DataFrame(parameters, columns=header_keyword, index=[filterRP_fileName, filterB_fileName, filterV_fileName])\n"
   ]
  },
  {
   "cell_type": "code",
   "execution_count": 22,
   "metadata": {},
   "outputs": [
    {
     "data": {
      "text/html": [
       "<div>\n",
       "<style scoped>\n",
       "    .dataframe tbody tr th:only-of-type {\n",
       "        vertical-align: middle;\n",
       "    }\n",
       "\n",
       "    .dataframe tbody tr th {\n",
       "        vertical-align: top;\n",
       "    }\n",
       "\n",
       "    .dataframe thead th {\n",
       "        text-align: right;\n",
       "    }\n",
       "</style>\n",
       "<table border=\"1\" class=\"dataframe\">\n",
       "  <thead>\n",
       "    <tr style=\"text-align: right;\">\n",
       "      <th></th>\n",
       "      <th>SITE</th>\n",
       "      <th>LATITUDE</th>\n",
       "      <th>LONGITUD</th>\n",
       "      <th>DATE-OBS</th>\n",
       "      <th>FILTER</th>\n",
       "      <th>RA</th>\n",
       "      <th>DEC</th>\n",
       "      <th>AIRMASS</th>\n",
       "    </tr>\n",
       "  </thead>\n",
       "  <tbody>\n",
       "    <tr>\n",
       "      <th>ogg0m406-kb27-20230410-0069-e91.fits.fz</th>\n",
       "      <td>LCOGT node at Haleakala Observatory</td>\n",
       "      <td>20.706958</td>\n",
       "      <td>-156.257514</td>\n",
       "      <td>2023-04-11T06:12:12.012</td>\n",
       "      <td>rp</td>\n",
       "      <td>08:40:13.1287</td>\n",
       "      <td>+19:37:14.581</td>\n",
       "      <td>1.004753</td>\n",
       "    </tr>\n",
       "    <tr>\n",
       "      <th>ogg0m406-kb27-20230410-0070-e91.fits.fz</th>\n",
       "      <td>LCOGT node at Haleakala Observatory</td>\n",
       "      <td>20.706958</td>\n",
       "      <td>-156.257514</td>\n",
       "      <td>2023-04-11T06:14:00.796</td>\n",
       "      <td>B</td>\n",
       "      <td>08:40:13.1263</td>\n",
       "      <td>+19:37:14.912</td>\n",
       "      <td>1.005497</td>\n",
       "    </tr>\n",
       "    <tr>\n",
       "      <th>ogg0m406-kb27-20230410-0071-e91.fits.fz</th>\n",
       "      <td>LCOGT node at Haleakala Observatory</td>\n",
       "      <td>20.706958</td>\n",
       "      <td>-156.257514</td>\n",
       "      <td>2023-04-11T06:15:48.635</td>\n",
       "      <td>V</td>\n",
       "      <td>08:40:13.1314</td>\n",
       "      <td>+19:37:14.468</td>\n",
       "      <td>1.006288</td>\n",
       "    </tr>\n",
       "  </tbody>\n",
       "</table>\n",
       "</div>"
      ],
      "text/plain": [
       "                                                                        SITE  \\\n",
       "ogg0m406-kb27-20230410-0069-e91.fits.fz  LCOGT node at Haleakala Observatory   \n",
       "ogg0m406-kb27-20230410-0070-e91.fits.fz  LCOGT node at Haleakala Observatory   \n",
       "ogg0m406-kb27-20230410-0071-e91.fits.fz  LCOGT node at Haleakala Observatory   \n",
       "\n",
       "                                          LATITUDE    LONGITUD  \\\n",
       "ogg0m406-kb27-20230410-0069-e91.fits.fz  20.706958 -156.257514   \n",
       "ogg0m406-kb27-20230410-0070-e91.fits.fz  20.706958 -156.257514   \n",
       "ogg0m406-kb27-20230410-0071-e91.fits.fz  20.706958 -156.257514   \n",
       "\n",
       "                                                        DATE-OBS FILTER  \\\n",
       "ogg0m406-kb27-20230410-0069-e91.fits.fz  2023-04-11T06:12:12.012     rp   \n",
       "ogg0m406-kb27-20230410-0070-e91.fits.fz  2023-04-11T06:14:00.796      B   \n",
       "ogg0m406-kb27-20230410-0071-e91.fits.fz  2023-04-11T06:15:48.635      V   \n",
       "\n",
       "                                                    RA            DEC  \\\n",
       "ogg0m406-kb27-20230410-0069-e91.fits.fz  08:40:13.1287  +19:37:14.581   \n",
       "ogg0m406-kb27-20230410-0070-e91.fits.fz  08:40:13.1263  +19:37:14.912   \n",
       "ogg0m406-kb27-20230410-0071-e91.fits.fz  08:40:13.1314  +19:37:14.468   \n",
       "\n",
       "                                          AIRMASS  \n",
       "ogg0m406-kb27-20230410-0069-e91.fits.fz  1.004753  \n",
       "ogg0m406-kb27-20230410-0070-e91.fits.fz  1.005497  \n",
       "ogg0m406-kb27-20230410-0071-e91.fits.fz  1.006288  "
      ]
     },
     "execution_count": 22,
     "metadata": {},
     "output_type": "execute_result"
    }
   ],
   "source": [
    "param_table.to_csv('tables/fits-parameters.csv')\n",
    "param_table"
   ]
  }
 ],
 "metadata": {
  "kernelspec": {
   "display_name": "Python 3",
   "language": "python",
   "name": "python3"
  },
  "language_info": {
   "codemirror_mode": {
    "name": "ipython",
    "version": 3
   },
   "file_extension": ".py",
   "mimetype": "text/x-python",
   "name": "python",
   "nbconvert_exporter": "python",
   "pygments_lexer": "ipython3",
   "version": "3.12.4"
  }
 },
 "nbformat": 4,
 "nbformat_minor": 2
}
